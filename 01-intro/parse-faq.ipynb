{
 "cells": [
  {
   "cell_type": "code",
   "execution_count": 8,
   "id": "4cd1eaa8-3424-41ad-9cf2-3e8548712865",
   "metadata": {},
   "outputs": [],
   "source": [
    "import io\n",
    "\n",
    "import requests\n",
    "import docx"
   ]
  },
  {
   "cell_type": "code",
   "execution_count": null,
   "id": "8180e7e4-b90d-4900-a59b-d22e5d6537c4",
   "metadata": {},
   "outputs": [],
   "source": [
    "def clean_line(line):\n",
    "    return line.strip().strip(\"\\ufeff\")\n",
    "\n",
    "\n",
    "def download_gdrive_file(file_id):\n",
    "    url = f\"https://docs.google.com/document/d/{file_id}/export?format=docx\"\n",
    "    response = requests.get(url)\n",
    "    response.raise_for_status()\n",
    "    return response.content\n",
    "\n",
    "\n",
    "def save_file(file_id, file_name):\n",
    "    with open(file_name, \"wb\") as f_out:\n",
    "        file_stream = download_gdrive_file(file_id)\n",
    "        if not file_stream:\n",
    "            return False\n",
    "        f_out.write(file_stream)\n",
    "    return True\n",
    "\n",
    "\n",
    "def read_docx(docx_path=None, stream=None):\n",
    "    if docx_path:\n",
    "        with open(docx_path, \"rb\") as f_in:\n",
    "            return docx.Document(f_in)\n",
    "    elif stream:\n",
    "        with io.BytesIO(stream) as f_in:\n",
    "            return docx.Document(f_in)\n",
    "    return None\n",
    "\n",
    "\n",
    "def read_faq(file_id):\n",
    "    doc = read_docx(download_gdrive_file(file_id))\n",
    "    if not doc:\n",
    "        raise Exception(\"Failed to load FAQ file\")\n",
    "\n",
    "    questions = []\n",
    "\n",
    "    question_heading_style = \"heading 2\"\n",
    "    section_heading_style = \"heading 1\"\n",
    "\n",
    "    section_title = \"\"\n",
    "    question_title = \"\"\n",
    "    answer_text_so_far = \"\"\n",
    "\n",
    "    for p in doc.paragraphs:\n",
    "        style = p.style.name.lower()\n",
    "        p_text = clean_line(p.text)\n",
    "\n",
    "        if len(p_text) == 0:\n",
    "            continue\n",
    "\n",
    "        if style == section_heading_style:\n",
    "            section_title = p_text\n",
    "            continue\n",
    "\n",
    "        if style == question_heading_style:\n",
    "            if all(\n",
    "                [section_title, question_title, answer_text_so_far],\n",
    "                lambda x: len(x) > 0,\n",
    "            ):\n",
    "                questions.append(\n",
    "                    {\n",
    "                        \"section\": section_title,\n",
    "                        \"question\": question_title,\n",
    "                        \"text\": answer_text_so_far,\n",
    "                    }\n",
    "                )\n",
    "                answer_text_so_far = \"\"\n",
    "\n",
    "            question_title = p_text\n",
    "            continue\n",
    "\n",
    "        answer_text_so_far += \"\\n\" + p_text\n",
    "\n",
    "    # answer_text_so_far = answer_text_so_far.strip() # unnecessary extra safeguard\n",
    "    if answer_text_so_far != \"\" and section_title != \"\" and question_title != \"\":\n",
    "        questions.append(\n",
    "            {\n",
    "                \"text\": answer_text_so_far,\n",
    "                \"section\": section_title,\n",
    "                \"question\": question_title,\n",
    "            }\n",
    "        )\n",
    "\n",
    "    return questions"
   ]
  },
  {
   "cell_type": "code",
   "execution_count": null,
   "id": "f94efe26-05e8-4ae5-a0fa-0a8e16852816",
   "metadata": {},
   "outputs": [
    {
     "name": "stdout",
     "output_type": "stream",
     "text": [
      "data-engineering-zoomcamp, link: https://docs.google.com/document/d/19bnYs80DwuUimHM65UV3sylsCn2j1vziPOwzBwQrebw\n",
      "machine-learning-zoomcamp, link: https://docs.google.com/document/d/1LpPanc33QJJ6BSsyxVg-pWNMplal84TdZtq10naIhD8\n",
      "mlops-zoomcamp, link: https://docs.google.com/document/d/12TlBfhIiKtyBv8RnsoJR6F72bkPDGEvPOItJIxaEzE0\n"
     ]
    }
   ],
   "source": [
    "faq_documents = {\n",
    "    \"data-engineering-zoomcamp\": \"19bnYs80DwuUimHM65UV3sylsCn2j1vziPOwzBwQrebw\",\n",
    "    \"machine-learning-zoomcamp\": \"1LpPanc33QJJ6BSsyxVg-pWNMplal84TdZtq10naIhD8\",\n",
    "    \"mlops-zoomcamp\": \"12TlBfhIiKtyBv8RnsoJR6F72bkPDGEvPOItJIxaEzE0\",\n",
    "    \"llm-zoomcamp\": \"1m2KexowAXTmexfC5rVTCSnaShvdUQ8Ag2IEiwBDHxN0\",\n",
    "}\n",
    "\n",
    "documents = []\n",
    "\n",
    "for course, file_id in faq_documents.items():\n",
    "    print(f\"{course}, link: https://docs.google.com/document/d/{file_id}\")\n",
    "    documents.append({\"course\": course, \"documents\": read_faq(file_id)})"
   ]
  },
  {
   "cell_type": "code",
   "execution_count": null,
   "id": "30d50bc1-8d26-44ee-8734-cafce05e0523",
   "metadata": {},
   "outputs": [],
   "source": [
    "import json\n",
    "with open('documents.json', 'wt') as f_out:\n",
    "    json.dump(documents, f_out, indent=2)\n",
    "!head documents.json"
   ]
  }
 ],
 "metadata": {
  "kernelspec": {
   "display_name": "Python 3",
   "language": "python",
   "name": "python3"
  },
  "language_info": {
   "codemirror_mode": {
    "name": "ipython",
    "version": 3
   },
   "file_extension": ".py",
   "mimetype": "text/x-python",
   "name": "python",
   "nbconvert_exporter": "python",
   "pygments_lexer": "ipython3",
   "version": "3.12.8"
  }
 },
 "nbformat": 4,
 "nbformat_minor": 5
}
