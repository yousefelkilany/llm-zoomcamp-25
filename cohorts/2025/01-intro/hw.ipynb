{
 "cells": [
  {
   "cell_type": "code",
   "execution_count": null,
   "id": "592014eb",
   "metadata": {},
   "outputs": [
    {
     "name": "stderr",
     "output_type": "stream",
     "text": [
      "  % Total    % Received % Xferd  Average Speed   Time    Time     Time  Current\n",
      "                                 Dload  Upload   Total   Spent    Left  Speed\n",
      "\n",
      "  0     0    0     0    0     0      0      0 --:--:-- --:--:-- --:--:--     0\n",
      "100  4073  100  4073    0     0  19261      0 --:--:-- --:--:-- --:--:-- 19488\n"
     ]
    }
   ],
   "source": [
    "!curl https://raw.githubusercontent.com/alexeygrigorev/minsearch/main/minsearch.py -O"
   ]
  },
  {
   "cell_type": "code",
   "execution_count": null,
   "id": "6a2820b9",
   "metadata": {},
   "outputs": [],
   "source": [
    "# import requests\n",
    "\n",
    "# docs_url = 'https://github.com/DataTalksClub/llm-zoomcamp/blob/main/01-intro/documents.json?raw=1'\n",
    "# docs_response = requests.get(docs_url)\n",
    "# documents_raw = docs_response.json()\n",
    "\n",
    "import tqdm\n",
    "import json\n",
    "\n",
    "with open(\"../../../01-intro/documents.json\") as f:\n",
    "    documents_raw = json.load(f)\n",
    "\n",
    "\n",
    "documents = []\n",
    "\n",
    "for course in documents_raw:\n",
    "    course_name = course[\"course\"]\n",
    "\n",
    "    for doc in course[\"documents\"]:\n",
    "        doc[\"course\"] = course_name\n",
    "        documents.append(doc)"
   ]
  },
  {
   "cell_type": "code",
   "execution_count": 5,
   "id": "186a91a8",
   "metadata": {},
   "outputs": [
    {
     "data": {
      "text/plain": [
       "{'text': \"The purpose of this document is to capture frequently asked technical questions\\nThe exact day and hour of the course will be 15th Jan 2024 at 17h00. The course will start with the first  “Office Hours'' live.1\\nSubscribe to course public Google Calendar (it works from Desktop only).\\nRegister before the course starts using this link.\\nJoin the course Telegram channel with announcements.\\nDon’t forget to register in DataTalks.Club's Slack and join the channel.\",\n",
       " 'section': 'General course-related questions',\n",
       " 'question': 'Course - When will the course start?',\n",
       " 'course': 'data-engineering-zoomcamp'}"
      ]
     },
     "execution_count": 5,
     "metadata": {},
     "output_type": "execute_result"
    }
   ],
   "source": [
    "documents[0]"
   ]
  },
  {
   "cell_type": "code",
   "execution_count": 91,
   "id": "3455911a",
   "metadata": {},
   "outputs": [
    {
     "data": {
      "text/plain": [
       "ObjectApiResponse({'name': 'DESKTOP-BFJIGOM', 'cluster_name': 'elasticsearch', 'cluster_uuid': 'ylVraSS5T3aq0OzhERU41Q', 'version': {'number': '9.0.2', 'build_flavor': 'default', 'build_type': 'zip', 'build_hash': '0a58bc1dc7a4ae5412db66624aab968370bd44ce', 'build_date': '2025-05-28T10:06:37.834829258Z', 'build_snapshot': False, 'lucene_version': '10.1.0', 'minimum_wire_compatibility_version': '8.18.0', 'minimum_index_compatibility_version': '8.0.0'}, 'tagline': 'You Know, for Search'})"
      ]
     },
     "execution_count": 91,
     "metadata": {},
     "output_type": "execute_result"
    }
   ],
   "source": [
    "from elasticsearch import Elasticsearch\n",
    "\n",
    "es_client = Elasticsearch(\"http://127.0.0.1:9200\")\n",
    "es_client.info()"
   ]
  },
  {
   "cell_type": "code",
   "execution_count": null,
   "id": "5bb0ac26",
   "metadata": {},
   "outputs": [
    {
     "data": {
      "text/plain": [
       "ObjectApiResponse({'acknowledged': True, 'shards_acknowledged': True, 'index': 'course-faq'})"
      ]
     },
     "execution_count": 95,
     "metadata": {},
     "output_type": "execute_result"
    }
   ],
   "source": [
    "index_settings = {\n",
    "    \"settings\": {\"number_of_shards\": 1, \"number_of_replicas\": 0},\n",
    "    \"mappings\": {\n",
    "        \"properties\": {\n",
    "            \"text\": {\"type\": \"text\"},\n",
    "            \"section\": {\"type\": \"text\"},\n",
    "            \"question\": {\"type\": \"text\"},\n",
    "            \"course\": {\"type\": \"keyword\"},\n",
    "        }\n",
    "    },\n",
    "}\n",
    "\n",
    "index_name = \"course-faq\"\n",
    "\n",
    "\n",
    "es_client.indices.create(index=index_name, body=index_settings)"
   ]
  },
  {
   "cell_type": "code",
   "execution_count": null,
   "id": "cff4facf",
   "metadata": {},
   "outputs": [
    {
     "name": "stderr",
     "output_type": "stream",
     "text": [
      "100%|██████████| 948/948 [00:03<00:00, 290.34it/s]\n"
     ]
    }
   ],
   "source": [
    "def es_insert_docs(documents, es_client, es_index):\n",
    "    try:\n",
    "        for doc in tqdm.tqdm(documents):\n",
    "            es_client.index(index=es_index, document=doc)\n",
    "        return True\n",
    "    except Exception as e:\n",
    "        print(e)"
   ]
  },
  {
   "cell_type": "code",
   "execution_count": null,
   "id": "9b658e5f",
   "metadata": {},
   "outputs": [],
   "source": [
    "def es_search(\n",
    "    query, es_client, es_index, es_boost=None, es_filter=None, results_limit=5\n",
    "):\n",
    "    es_query = {\n",
    "        \"size\": results_limit,\n",
    "        \"query\": {\n",
    "            \"bool\": {\n",
    "                **{\n",
    "                    \"must\": {\n",
    "                        \"multi_match\": {\n",
    "                            \"query\": query,\n",
    "                            \"fields\": [\"question^4\", \"text\"],\n",
    "                            # \"fields\": [\"question\"],\n",
    "                            \"type\": \"best_fields\",\n",
    "                        }\n",
    "                    },\n",
    "                },\n",
    "                **({\"filter\": {\"term\": es_filter}} if es_filter else {}),\n",
    "            }\n",
    "        },\n",
    "    }\n",
    "    es_results = es_client.search(index=es_index, body=es_query)\n",
    "\n",
    "    # es_results = es_client.search(\n",
    "    #     index=es_index,\n",
    "    #     query=query,\n",
    "    #     filter_dict=es_filter,\n",
    "    #     boost_dict=es_boost,\n",
    "    #     num_results=5,\n",
    "    # )\n",
    "    return es_results"
   ]
  },
  {
   "cell_type": "code",
   "execution_count": 158,
   "id": "5a2fa40a",
   "metadata": {},
   "outputs": [
    {
     "data": {
      "text/plain": [
       "44.50556"
      ]
     },
     "execution_count": 158,
     "metadata": {},
     "output_type": "execute_result"
    }
   ],
   "source": [
    "query = \"How do execute a command on a Kubernetes pod?\"\n",
    "\n",
    "\n",
    "# def rag(query):\n",
    "#     es_results = es_search(query)\n",
    "#     prompt = build_prompt(query, es_results)\n",
    "#     answer = llm(prompt)\n",
    "#     return answer\n",
    "\n",
    "\n",
    "es_boost = {\"question\": 4}\n",
    "es_filter = {\"course\": \"data-engineering-zoomcamp\"}\n",
    "es_results = es_search(query, es_client, es_index=index_name, es_boost=es_boost)\n",
    "\n",
    "# es_results.keys(), es_results[\"hits\"].keys()\n",
    "# es_results[\"hits\"][\"hits\"][1][\"_source\"]\n",
    "es_results[\"hits\"][\"hits\"][0]['_score'] # q3"
   ]
  },
  {
   "cell_type": "code",
   "execution_count": null,
   "id": "53ef0aff",
   "metadata": {},
   "outputs": [
    {
     "data": {
      "text/plain": [
       "['How do I debug a docker container?',\n",
       " 'How do I copy files from my local machine to docker container?',\n",
       " 'How do I copy files from a different folder into docker container’s working directory?']"
      ]
     },
     "execution_count": 139,
     "metadata": {},
     "output_type": "execute_result"
    }
   ],
   "source": [
    "query = \"How do copy a file to a Docker container?\"\n",
    "\n",
    "es_boost = {\"question\": 4}\n",
    "es_filter = {\"course\": \"machine-learning-zoomcamp\"}\n",
    "es_results = es_search(query, es_client, es_index=index_name, es_boost=es_boost, es_filter=es_filter, results_limit=3)\n",
    "[res['_source']['question'] for res in es_results[\"hits\"][\"hits\"]][-1] # q4"
   ]
  },
  {
   "cell_type": "code",
   "execution_count": null,
   "id": "5a4f216d",
   "metadata": {},
   "outputs": [
    {
     "data": {
      "text/plain": [
       "1446"
      ]
     },
     "execution_count": 149,
     "metadata": {},
     "output_type": "execute_result"
    }
   ],
   "source": [
    "doc_context_template = \"\"\"\n",
    "Q: {question}\n",
    "A: {text}\n",
    "\"\"\".strip()\n",
    "\n",
    "context = \"\\n\\n\".join(\n",
    "    [\n",
    "        doc_context_template.format(**res[\"_source\"])\n",
    "        for res in es_results[\"hits\"][\"hits\"]\n",
    "    ]\n",
    ")\n",
    "\n",
    "prompt_template = \"\"\"\n",
    "You're a course teaching assistant. Answer the QUESTION based on the CONTEXT from the FAQ database.\n",
    "Use only the facts from the CONTEXT when answering the QUESTION.\n",
    "\n",
    "QUESTION: {question}\n",
    "\n",
    "CONTEXT:\n",
    "{context}\n",
    "\"\"\".strip()\n",
    "\n",
    "prompt = prompt_template.format(question=query, context=context)\n",
    "prompt.__len__() # q5"
   ]
  },
  {
   "cell_type": "code",
   "execution_count": null,
   "id": "904552b2",
   "metadata": {},
   "outputs": [
    {
     "data": {
      "text/plain": [
       "b\"You're\""
      ]
     },
     "execution_count": 154,
     "metadata": {},
     "output_type": "execute_result"
    }
   ],
   "source": [
    "\n",
    "import tiktoken\n",
    "\n",
    "\n",
    "encoding = tiktoken.encoding_for_model(\"gpt-4o\")\n",
    "prompt_tokens = encoding.encode(prompt)\n",
    "prompt_tokens.__len__() # q6\n",
    "\n",
    "encoding.decode_single_token_bytes(63842)"
   ]
  }
 ],
 "metadata": {
  "kernelspec": {
   "display_name": "Python 3",
   "language": "python",
   "name": "python3"
  },
  "language_info": {
   "codemirror_mode": {
    "name": "ipython",
    "version": 3
   },
   "file_extension": ".py",
   "mimetype": "text/x-python",
   "name": "python",
   "nbconvert_exporter": "python",
   "pygments_lexer": "ipython3",
   "version": "3.12.8"
  }
 },
 "nbformat": 4,
 "nbformat_minor": 5
}
