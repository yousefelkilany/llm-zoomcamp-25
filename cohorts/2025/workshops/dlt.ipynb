{
 "cells": [
  {
   "cell_type": "code",
   "execution_count": 3,
   "id": "2f25fd1b",
   "metadata": {},
   "outputs": [
    {
     "name": "stdout",
     "output_type": "stream",
     "text": [
      "\u001b[39m__main__.py 1.12.3\u001b[0m\n"
     ]
    }
   ],
   "source": [
    "!python -m dlt --version"
   ]
  },
  {
   "cell_type": "code",
   "execution_count": 2,
   "id": "64001f9f",
   "metadata": {},
   "outputs": [],
   "source": [
    "import requests\n",
    "import dlt"
   ]
  },
  {
   "cell_type": "code",
   "execution_count": 3,
   "id": "5b0b571c",
   "metadata": {},
   "outputs": [],
   "source": [
    "@dlt.resource\n",
    "def zoomcamp_data():\n",
    "    docs_url = 'https://github.com/alexeygrigorev/llm-rag-workshop/raw/main/notebooks/documents.json'\n",
    "    docs_response = requests.get(docs_url)\n",
    "    documents_raw = docs_response.json()\n",
    "\n",
    "    for course in documents_raw:\n",
    "        course_name = course['course']\n",
    "\n",
    "        for doc in course['documents']:\n",
    "            doc['course'] = course_name\n",
    "            yield doc"
   ]
  },
  {
   "cell_type": "code",
   "execution_count": 4,
   "id": "eb92a753",
   "metadata": {},
   "outputs": [],
   "source": [
    "from dlt.destinations import qdrant\n",
    "\n",
    "qdrant_destination = qdrant(\n",
    "  qd_path=\"db.qdrant\", \n",
    ")"
   ]
  },
  {
   "cell_type": "code",
   "execution_count": 5,
   "id": "25bb6748",
   "metadata": {},
   "outputs": [
    {
     "name": "stdout",
     "output_type": "stream",
     "text": [
      "Run started at 2025-07-06 13:03:38.742662+00:00 and COMPLETED in 11.47 seconds with 4 steps.\n",
      "Step extract COMPLETED in 1.22 seconds.\n",
      "\n",
      "Load package 1751807022.1428754 is EXTRACTED and NOT YET LOADED to the destination and contains no failed jobs\n",
      "\n",
      "Step normalize COMPLETED in 0.33 seconds.\n",
      "Normalized data for the following tables:\n",
      "- zoomcamp_data: 948 row(s)\n",
      "- _dlt_pipeline_state: 1 row(s)\n",
      "\n",
      "Load package 1751807022.1428754 is NORMALIZED and NOT YET LOADED to the destination and contains no failed jobs\n",
      "\n",
      "Step load COMPLETED in 6.53 seconds.\n",
      "Pipeline zoomcamp_pipeline load step completed in 6.48 seconds\n",
      "1 load package(s) were loaded to destination qdrant and into dataset zoomcamp_tagged_data\n",
      "The qdrant destination used d:\\llm-zoomcamp\\cohorts\\2025\\workshops\\db.qdrant location to store data\n",
      "Load package 1751807022.1428754 is LOADED and contains no failed jobs\n",
      "\n",
      "Step run COMPLETED in 11.46 seconds.\n",
      "Pipeline zoomcamp_pipeline load step completed in 6.48 seconds\n",
      "1 load package(s) were loaded to destination qdrant and into dataset zoomcamp_tagged_data\n",
      "The qdrant destination used d:\\llm-zoomcamp\\cohorts\\2025\\workshops\\db.qdrant location to store data\n",
      "Load package 1751807022.1428754 is LOADED and contains no failed jobs\n"
     ]
    }
   ],
   "source": [
    "pipeline = dlt.pipeline(\n",
    "    pipeline_name=\"zoomcamp_pipeline\",\n",
    "    destination=qdrant_destination,\n",
    "    dataset_name=\"zoomcamp_tagged_data\"\n",
    "\n",
    ")\n",
    "load_info = pipeline.run(zoomcamp_data())\n",
    "print(pipeline.last_trace)"
   ]
  }
 ],
 "metadata": {
  "kernelspec": {
   "display_name": "Python 3",
   "language": "python",
   "name": "python3"
  },
  "language_info": {
   "codemirror_mode": {
    "name": "ipython",
    "version": 3
   },
   "file_extension": ".py",
   "mimetype": "text/x-python",
   "name": "python",
   "nbconvert_exporter": "python",
   "pygments_lexer": "ipython3",
   "version": "3.12.8"
  }
 },
 "nbformat": 4,
 "nbformat_minor": 5
}
