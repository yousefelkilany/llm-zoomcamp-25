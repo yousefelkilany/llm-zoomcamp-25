{
 "cells": [
  {
   "cell_type": "code",
   "execution_count": 31,
   "id": "b9afdf6f",
   "metadata": {},
   "outputs": [
    {
     "data": {
      "text/plain": [
       "-0.11726373885183883"
      ]
     },
     "execution_count": 31,
     "metadata": {},
     "output_type": "execute_result"
    }
   ],
   "source": [
    "import fastembed\n",
    "\n",
    "model_handle = 'jinaai/jina-embeddings-v2-small-en'\n",
    "text_embedding = fastembed.TextEmbedding(model_handle)\n",
    "q_str = \"I just discovered the course. Can I join now?\"\n",
    "q = text_embedding.embed(q_str)\n",
    "q = list(q)[0]\n",
    "min(q)  # q1 answer"
   ]
  },
  {
   "cell_type": "code",
   "execution_count": 4,
   "id": "7bc11945",
   "metadata": {},
   "outputs": [
    {
     "data": {
      "text/plain": [
       "0.9008528895674547"
      ]
     },
     "execution_count": 4,
     "metadata": {},
     "output_type": "execute_result"
    }
   ],
   "source": [
    "import numpy as np\n",
    "\n",
    "doc = text_embedding.embed(\"Can I still join the course after the start date?\")\n",
    "doc = list(doc)[0]\n",
    "q.dot(doc)  # q2 answer"
   ]
  },
  {
   "cell_type": "code",
   "execution_count": 5,
   "id": "0dfc7217",
   "metadata": {},
   "outputs": [
    {
     "name": "stdout",
     "output_type": "stream",
     "text": [
      "1\n"
     ]
    }
   ],
   "source": [
    "documents_raw = [\n",
    "    {\n",
    "        \"text\": \"Yes, even if you don't register, you're still eligible to submit the homeworks.\\nBe aware, however, that there will be deadlines for turning in the final projects. So don't leave everything for the last minute.\",\n",
    "        \"section\": \"General course-related questions\",\n",
    "        \"question\": \"Course - Can I still join the course after the start date?\",\n",
    "        \"course\": \"data-engineering-zoomcamp\",\n",
    "    },\n",
    "    {\n",
    "        \"text\": \"Yes, we will keep all the materials after the course finishes, so you can follow the course at your own pace after it finishes.\\nYou can also continue looking at the homeworks and continue preparing for the next cohort. I guess you can also start working on your final capstone project.\",\n",
    "        \"section\": \"General course-related questions\",\n",
    "        \"question\": \"Course - Can I follow the course after it finishes?\",\n",
    "        \"course\": \"data-engineering-zoomcamp\",\n",
    "    },\n",
    "    {\n",
    "        \"text\": \"The purpose of this document is to capture frequently asked technical questions\\nThe exact day and hour of the course will be 15th Jan 2024 at 17h00. The course will start with the first  “Office Hours'' live.1\\nSubscribe to course public Google Calendar (it works from Desktop only).\\nRegister before the course starts using this link.\\nJoin the course Telegram channel with announcements.\\nDon’t forget to register in DataTalks.Club's Slack and join the channel.\",\n",
    "        \"section\": \"General course-related questions\",\n",
    "        \"question\": \"Course - When will the course start?\",\n",
    "        \"course\": \"data-engineering-zoomcamp\",\n",
    "    },\n",
    "    {\n",
    "        \"text\": \"You can start by installing and setting up all the dependencies and requirements:\\nGoogle cloud account\\nGoogle Cloud SDK\\nPython 3 (installed with Anaconda)\\nTerraform\\nGit\\nLook over the prerequisites and syllabus to see if you are comfortable with these subjects.\",\n",
    "        \"section\": \"General course-related questions\",\n",
    "        \"question\": \"Course - What can I do before the course starts?\",\n",
    "        \"course\": \"data-engineering-zoomcamp\",\n",
    "    },\n",
    "    {\n",
    "        \"text\": \"Star the repo! Share it with friends if you find it useful ❣️\\nCreate a PR if you see you can improve the text or the structure of the repository.\",\n",
    "        \"section\": \"General course-related questions\",\n",
    "        \"question\": \"How can we contribute to the course?\",\n",
    "        \"course\": \"data-engineering-zoomcamp\",\n",
    "    },\n",
    "]\n",
    "\n",
    "documents = text_embedding.embed([doc[\"text\"] for doc in documents_raw])\n",
    "documents = np.array(list(documents))\n",
    "print(documents.dot(q).argmax())  # documents.dot(q).argsort()[::-1] # q3 answer"
   ]
  },
  {
   "cell_type": "code",
   "execution_count": 6,
   "id": "fbef7c2a",
   "metadata": {},
   "outputs": [
    {
     "name": "stdout",
     "output_type": "stream",
     "text": [
      "0\n"
     ]
    }
   ],
   "source": [
    "[\n",
    "    doc.update({\"full_text\": doc[\"question\"] + \" \" + doc[\"text\"]})\n",
    "    for doc in documents_raw\n",
    "]\n",
    "documents = text_embedding.embed([doc[\"full_text\"] for doc in documents_raw])\n",
    "documents = np.array(list(documents))\n",
    "print(documents.dot(q).argmax())  # documents.dot(q).argsort()[::-1] # q4 answer"
   ]
  },
  {
   "cell_type": "code",
   "execution_count": 7,
   "id": "7eae1c16",
   "metadata": {},
   "outputs": [
    {
     "name": "stdout",
     "output_type": "stream",
     "text": [
      "[0.85145432 0.84365942 0.8408287  0.7755158  0.80860078]\n"
     ]
    }
   ],
   "source": [
    "print(documents.dot(q))"
   ]
  },
  {
   "cell_type": "code",
   "execution_count": 35,
   "id": "0580ff96",
   "metadata": {},
   "outputs": [],
   "source": [
    "from fastembed import TextEmbedding\n",
    "\n",
    "embedding_models = TextEmbedding.list_supported_models()\n",
    "embedding_models.sort(key=lambda x: x[\"dim\"])\n",
    "EMBEDDING_DIMENSIONALITY = min_dim = embedding_models[0][\"dim\"]  # q5 answer\n",
    "[\n",
    "    (m[\"model\"], m[\"size_in_GB\"])\n",
    "    for m in list(filter(lambda x: x[\"dim\"] == min_dim, embedding_models))\n",
    "]\n",
    "model_handle = 'BAAI/bge-small-en'"
   ]
  },
  {
   "cell_type": "code",
   "execution_count": 25,
   "id": "8161eaef",
   "metadata": {},
   "outputs": [],
   "source": [
    "import requests \n",
    "\n",
    "docs_url = 'https://github.com/alexeygrigorev/llm-rag-workshop/raw/main/notebooks/documents.json'\n",
    "docs_response = requests.get(docs_url)\n",
    "documents_raw = docs_response.json()\n",
    "\n",
    "\n",
    "documents = []\n",
    "\n",
    "for course in documents_raw:\n",
    "    course_name = course['course']\n",
    "    if course_name != 'machine-learning-zoomcamp':\n",
    "        continue\n",
    "\n",
    "    for doc in course['documents']:\n",
    "        doc['course'] = course_name\n",
    "        documents.append(doc)"
   ]
  },
  {
   "cell_type": "code",
   "execution_count": 28,
   "id": "da0fdbfe",
   "metadata": {},
   "outputs": [
    {
     "data": {
      "text/plain": [
       "True"
      ]
     },
     "execution_count": 28,
     "metadata": {},
     "output_type": "execute_result"
    }
   ],
   "source": [
    "from qdrant_client import QdrantClient, models\n",
    "\n",
    "client = QdrantClient(\"http://localhost:6333\") #connecting to local Qdrant instance\n",
    "\n",
    "# Define the collection name\n",
    "collection_name = \"ml-zoomcamp-rag\"\n",
    "client.delete_collection(collection_name)\n",
    "\n",
    "# Create the collection with specified vector parameters\n",
    "client.create_collection(\n",
    "    collection_name=collection_name,\n",
    "    vectors_config=models.VectorParams(\n",
    "        size=EMBEDDING_DIMENSIONALITY,  # Dimensionality of the vectors\n",
    "        distance=models.Distance.COSINE  # Distance metric for similarity search\n",
    "    )\n",
    ")"
   ]
  },
  {
   "cell_type": "code",
   "execution_count": 29,
   "id": "3972c9b3",
   "metadata": {},
   "outputs": [
    {
     "data": {
      "application/vnd.jupyter.widget-view+json": {
       "model_id": "065f1138d8254901833c7706bcb4a5a4",
       "version_major": 2,
       "version_minor": 0
      },
      "text/plain": [
       "Fetching 5 files:   0%|          | 0/5 [00:00<?, ?it/s]"
      ]
     },
     "metadata": {},
     "output_type": "display_data"
    },
    {
     "data": {
      "text/plain": [
       "UpdateResult(operation_id=0, status=<UpdateStatus.COMPLETED: 'completed'>)"
      ]
     },
     "execution_count": 29,
     "metadata": {},
     "output_type": "execute_result"
    }
   ],
   "source": [
    "points = [\n",
    "    models.PointStruct(\n",
    "        id=id_,\n",
    "        vector=models.Document(\n",
    "            text=doc[\"question\"] + \" \" + doc[\"text\"], model=model_handle\n",
    "        ),\n",
    "        # payload={\n",
    "        #     \"text\": doc[\"text\"],\n",
    "        #     \"section\": doc[\"section\"],\n",
    "        #     \"course\": course[\"course\"],\n",
    "        # },  # save all needed metadata fields\n",
    "    )\n",
    "    for id_, doc in enumerate(documents)\n",
    "]\n",
    "\n",
    "client.upsert(collection_name=collection_name, points=points)"
   ]
  },
  {
   "cell_type": "code",
   "execution_count": 36,
   "id": "5eaaa6f1",
   "metadata": {},
   "outputs": [
    {
     "data": {
      "text/plain": [
       "QueryResponse(points=[ScoredPoint(id=14, version=0, score=0.8703172, payload={}, vector=None, shard_key=None, order_value=None), ScoredPoint(id=6, version=0, score=0.86918855, payload={}, vector=None, shard_key=None, order_value=None), ScoredPoint(id=13, version=0, score=0.86833113, payload={}, vector=None, shard_key=None, order_value=None), ScoredPoint(id=293, version=0, score=0.8576106, payload={}, vector=None, shard_key=None, order_value=None), ScoredPoint(id=17, version=0, score=0.85715395, payload={}, vector=None, shard_key=None, order_value=None), ScoredPoint(id=231, version=0, score=0.85681665, payload={}, vector=None, shard_key=None, order_value=None), ScoredPoint(id=262, version=0, score=0.85447824, payload={}, vector=None, shard_key=None, order_value=None), ScoredPoint(id=9, version=0, score=0.84559387, payload={}, vector=None, shard_key=None, order_value=None), ScoredPoint(id=5, version=0, score=0.8414748, payload={}, vector=None, shard_key=None, order_value=None), ScoredPoint(id=18, version=0, score=0.83479106, payload={}, vector=None, shard_key=None, order_value=None)])"
      ]
     },
     "execution_count": 36,
     "metadata": {},
     "output_type": "execute_result"
    }
   ],
   "source": [
    "client.query_points(collection_name, models.Document(text=q_str, model=model_handle))"
   ]
  }
 ],
 "metadata": {
  "kernelspec": {
   "display_name": "Python 3",
   "language": "python",
   "name": "python3"
  },
  "language_info": {
   "codemirror_mode": {
    "name": "ipython",
    "version": 3
   },
   "file_extension": ".py",
   "mimetype": "text/x-python",
   "name": "python",
   "nbconvert_exporter": "python",
   "pygments_lexer": "ipython3",
   "version": "3.12.8"
  }
 },
 "nbformat": 4,
 "nbformat_minor": 5
}
